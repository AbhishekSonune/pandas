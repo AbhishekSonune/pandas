{
 "cells": [
  {
   "cell_type": "markdown",
   "id": "f80e2707",
   "metadata": {},
   "source": [
    "Numpy  Array operations"
   ]
  },
  {
   "cell_type": "code",
   "execution_count": 81,
   "id": "de95115c",
   "metadata": {},
   "outputs": [],
   "source": [
    "import numpy as np"
   ]
  },
  {
   "cell_type": "code",
   "execution_count": 82,
   "id": "371038b4",
   "metadata": {},
   "outputs": [
    {
     "name": "stdout",
     "output_type": "stream",
     "text": [
      "Basic slicimh  [3 4 5 6 7]\n",
      "With Step  [3 5]\n",
      "negative index  [6 7 8 9]\n"
     ]
    }
   ],
   "source": [
    "arr = np.array([1,2,3,4,5,6,7,8,9,10])\n",
    "print(\"Basic slicimh \", arr[2:7])\n",
    "print(\"With Step \", arr[2:6:2]) # gap in list number\n",
    "print(\"negative index \", arr[-5:-1])\n",
    "\n",
    "\n"
   ]
  },
  {
   "cell_type": "code",
   "execution_count": 83,
   "id": "2bef1935",
   "metadata": {},
   "outputs": [
    {
     "name": "stdout",
     "output_type": "stream",
     "text": [
      "enter the specific aray  [[ 6  7  8  9 10]\n",
      " [11 12 13 14 15]]\n",
      "entire row: [ 6  7  8  9 10]\n",
      "entire column: [ 3  8 13]\n"
     ]
    }
   ],
   "source": [
    "arr_2d = np.array([[1,2,3,4,5],\n",
    "                   [6,7,8,9,10],\n",
    "                   [11,12,13,14,15]])\n",
    "print(\"enter the specific aray \",arr_2d[1:3]) # this note always number in 0 se start hote hai\n",
    "print(\"entire row:\",arr_2d[1])\n",
    "print(\"entire column:\",arr_2d[:,2]) # : means all row and 2 means 3rd column\n"
   ]
  },
  {
   "cell_type": "markdown",
   "id": "88949182",
   "metadata": {},
   "source": [
    "sorting"
   ]
  },
  {
   "cell_type": "code",
   "execution_count": 84,
   "id": "72883394",
   "metadata": {},
   "outputs": [
    {
     "name": "stdout",
     "output_type": "stream",
     "text": [
      "sorted array : [ 3  4  4  5  5  5  5  5  5  5  5  6  6  6  6  7 43 45]\n",
      "sorted array: [[ 1  2  2  3  5]\n",
      " [ 1  6  7  8  9]\n",
      " [11 12 13 14 15]]\n",
      "sorted 2d by the row: [[ 1  2  2  3  5]\n",
      " [ 1  6  7  8  9]\n",
      " [11 12 13 14 15]]\n"
     ]
    }
   ],
   "source": [
    "unsorted = np.array([3,4,43,6,7,5,5,5,6,6,45,5,4,5,5,6,5,5,])\n",
    "print(\"sorted array :\",np.sort(unsorted))\n",
    "\n",
    "arrr_2d_unsorted = np.array([[1,2,3,2,5],\n",
    "                           [6,7,8,9,1],\n",
    "                            [11,12,13,14,15]])\n",
    "print(\"sorted array:\",np.sort(arrr_2d_unsorted)) # axis 0 mea\n",
    "print(\"sorted 2d by the row:\",np.sort(arrr_2d_unsorted, axis=1))\n"
   ]
  },
  {
   "cell_type": "markdown",
   "id": "48b80b48",
   "metadata": {},
   "source": [
    "## Filter"
   ]
  },
  {
   "cell_type": "code",
   "execution_count": 85,
   "id": "6693cb83",
   "metadata": {},
   "outputs": [
    {
     "name": "stdout",
     "output_type": "stream",
     "text": [
      "even numbers : [ 2  4  6  8 10]\n"
     ]
    }
   ],
   "source": [
    "import numpy as np\n",
    "\n",
    "numbers =np.array([1,2,3,4,5,6,7,8,9,10])\n",
    "even_numbers = numbers[numbers%2==0]\n",
    "print(\"even numbers :\", even_numbers)"
   ]
  },
  {
   "cell_type": "markdown",
   "id": "3341c8fa",
   "metadata": {},
   "source": [
    "## filter the mask"
   ]
  },
  {
   "cell_type": "code",
   "execution_count": 86,
   "id": "db76ece0",
   "metadata": {},
   "outputs": [
    {
     "name": "stdout",
     "output_type": "stream",
     "text": [
      "number greater then 5  [ 6  7  8  9 10]\n"
     ]
    }
   ],
   "source": [
    "mask = numbers >5\n",
    "print(\"number greater then 5 \",numbers[mask])"
   ]
  },
  {
   "cell_type": "markdown",
   "id": "bf2bc5d3",
   "metadata": {},
   "source": [
    "## fancy indexing  np.where*()"
   ]
  },
  {
   "cell_type": "code",
   "execution_count": 87,
   "id": "f6a7b10f",
   "metadata": {},
   "outputs": [
    {
     "name": "stdout",
     "output_type": "stream",
     "text": [
      "[1 3 5]\n",
      "(array([5, 6, 7, 8, 9]),)\n",
      "NP where [ 6  7  8  9 10]\n"
     ]
    }
   ],
   "source": [
    "indices =[0,2,4]\n",
    "print(numbers[indices])\n",
    "\n",
    "where_result =np.where(numbers > 5)\n",
    "print(where_result)\n",
    "print(\"NP where\", numbers[where_result])\n"
   ]
  },
  {
   "cell_type": "code",
   "execution_count": 88,
   "id": "a505bc91",
   "metadata": {},
   "outputs": [
    {
     "name": "stdout",
     "output_type": "stream",
     "text": [
      "condition array ['false' 'false' 'false' 'false' 'false' 'true' 'true' 'true' 'true'\n",
      " 'true']\n"
     ]
    }
   ],
   "source": [
    "condition_array = np.where(numbers >5,\"true\",\"false\")  \n",
    "print(\"condition array\", condition_array)"
   ]
  },
  {
   "cell_type": "code",
   "execution_count": 89,
   "id": "c6c24684",
   "metadata": {},
   "outputs": [
    {
     "name": "stdout",
     "output_type": "stream",
     "text": [
      "condition array [ 1  2  3 16 20 24 28 32 36 40]\n"
     ]
    }
   ],
   "source": [
    "condition_array = np.where(numbers >3, numbers*4, numbers  )\n",
    "print(\"condition array\", condition_array)"
   ]
  },
  {
   "cell_type": "markdown",
   "id": "a48e4080",
   "metadata": {},
   "source": [
    "## adding and removeing data"
   ]
  },
  {
   "cell_type": "code",
   "execution_count": 90,
   "id": "86d4319f",
   "metadata": {},
   "outputs": [
    {
     "name": "stdout",
     "output_type": "stream",
     "text": [
      "[1 2 3 4 5 2 3 4 5 6]\n"
     ]
    }
   ],
   "source": [
    "arr1 =np.array([1,2,3,4,5])\n",
    "arr2 =np.array([2,3,4,5,6])\n",
    "combined =np.concatenate((arr1,arr2)) # concatenate is the tow array combine \n",
    "print(combined)"
   ]
  },
  {
   "cell_type": "markdown",
   "id": "91bf900a",
   "metadata": {},
   "source": [
    " ## array compatibility"
   ]
  },
  {
   "cell_type": "code",
   "execution_count": 91,
   "id": "0bd43b2b",
   "metadata": {},
   "outputs": [
    {
     "name": "stdout",
     "output_type": "stream",
     "text": [
      "Compatibility shapes True\n"
     ]
    }
   ],
   "source": [
    "a =np.array([1,2,3])\n",
    "b  = np.array([1,5,8])\n",
    "c = np.array([7,8,9])\n",
    "print(\"Compatibility shapes\", a.shape == b.shape)\n"
   ]
  },
  {
   "cell_type": "code",
   "execution_count": 98,
   "id": "5b7cba75",
   "metadata": {},
   "outputs": [
    {
     "name": "stdout",
     "output_type": "stream",
     "text": [
      "[[1 2]\n",
      " [3 4]]\n",
      "[[1 2]\n",
      " [3 4]\n",
      " [5 6]]\n",
      "with new coloum [[1 2 7]\n",
      " [3 4 8]]\n"
     ]
    }
   ],
   "source": [
    "original = np.array([[1,2],[3,4]])\n",
    "new_row =np.array([[5,6]])\n",
    "\n",
    "with_new_row = np.vstack((original, new_row))\n",
    "print(original)\n",
    "print(with_new_row)\n",
    "\n",
    "new_col = np.array([[7],[8]])\n",
    "with_new_col = np.hstack((original, new_col))\n",
    "print(\"with new coloum\", with_new_col)"
   ]
  },
  {
   "cell_type": "code",
   "execution_count": null,
   "id": "76df021b",
   "metadata": {},
   "outputs": [
    {
     "name": "stdout",
     "output_type": "stream",
     "text": [
      "Array after deletation [1 3 6 7 8]\n"
     ]
    }
   ],
   "source": [
    "arr = np.array([1,3,5,6,7,8])\n",
    "deleted = np.delete(arr,2)\n",
    "print(\"Array after deletation\",deleted) # delete opration"
   ]
  }
 ],
 "metadata": {
  "kernelspec": {
   "display_name": "Python 3",
   "language": "python",
   "name": "python3"
  },
  "language_info": {
   "codemirror_mode": {
    "name": "ipython",
    "version": 3
   },
   "file_extension": ".py",
   "mimetype": "text/x-python",
   "name": "python",
   "nbconvert_exporter": "python",
   "pygments_lexer": "ipython3",
   "version": "3.13.7"
  }
 },
 "nbformat": 4,
 "nbformat_minor": 5
}
