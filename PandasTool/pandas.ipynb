{
 "cells": [
  {
   "cell_type": "markdown",
   "id": "984793ba",
   "metadata": {},
   "source": [
    "# I am learn in pandas tool and enjoy us"
   ]
  },
  {
   "cell_type": "code",
   "execution_count": 1,
   "id": "9796eaa0",
   "metadata": {},
   "outputs": [],
   "source": [
    "import numpy as np\n",
    "import pandas as pd"
   ]
  },
  {
   "cell_type": "code",
   "execution_count": null,
   "id": "33ab4937",
   "metadata": {},
   "outputs": [],
   "source": [
    "labels =['a','b','c']\n",
    "my_list =[10,20,30]\n",
    "arr =np.array([10,20,30])# are the 102030 in the rdata  type in output\n",
    "d = { 1:10,2:20,3:30}#`123 (are the leble ) are the inxex size in vertically`  # this is distenery type \n"
   ]
  },
  {
   "cell_type": "code",
   "execution_count": 10,
   "id": "331f6d59",
   "metadata": {},
   "outputs": [
    {
     "data": {
      "text/plain": [
       "0    10\n",
       "1    20\n",
       "2    30\n",
       "dtype: int64"
      ]
     },
     "execution_count": 10,
     "metadata": {},
     "output_type": "execute_result"
    }
   ],
   "source": [
    "pd.Series(my_list)"
   ]
  },
  {
   "cell_type": "code",
   "execution_count": 14,
   "id": "2f2b8019",
   "metadata": {},
   "outputs": [
    {
     "data": {
      "text/plain": [
       "a    10\n",
       "b    20\n",
       "c    30\n",
       "dtype: int64"
      ]
     },
     "execution_count": 14,
     "metadata": {},
     "output_type": "execute_result"
    }
   ],
   "source": [
    "pd.Series(my_list,index=labels) # the olready the index in input then the output serise"
   ]
  },
  {
   "cell_type": "code",
   "execution_count": 16,
   "id": "c015523a",
   "metadata": {},
   "outputs": [
    {
     "data": {
      "text/plain": [
       "0    10\n",
       "1    20\n",
       "2    30\n",
       "dtype: int64"
      ]
     },
     "execution_count": 16,
     "metadata": {},
     "output_type": "execute_result"
    }
   ],
   "source": [
    "pd.Series(arr)"
   ]
  },
  {
   "cell_type": "code",
   "execution_count": 17,
   "id": "116db4e2",
   "metadata": {},
   "outputs": [
    {
     "data": {
      "text/plain": [
       "1    10\n",
       "2    20\n",
       "3    30\n",
       "dtype: int64"
      ]
     },
     "execution_count": 17,
     "metadata": {},
     "output_type": "execute_result"
    }
   ],
   "source": [
    "pd.Series(d)"
   ]
  }
 ],
 "metadata": {
  "kernelspec": {
   "display_name": "Python 3",
   "language": "python",
   "name": "python3"
  },
  "language_info": {
   "codemirror_mode": {
    "name": "ipython",
    "version": 3
   },
   "file_extension": ".py",
   "mimetype": "text/x-python",
   "name": "python",
   "nbconvert_exporter": "python",
   "pygments_lexer": "ipython3",
   "version": "3.13.7"
  }
 },
 "nbformat": 4,
 "nbformat_minor": 5
}
