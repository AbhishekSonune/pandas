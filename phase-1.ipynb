{
 "cells": [
  {
   "cell_type": "markdown",
   "id": "29482b46",
   "metadata": {},
   "source": [
    "## numpy array and basics\n",
    "learn about numpy with chai or code\n"
   ]
  },
  {
   "cell_type": "code",
   "execution_count": 12,
   "id": "9e4f02f7",
   "metadata": {},
   "outputs": [],
   "source": [
    "import numpy as np"
   ]
  },
  {
   "cell_type": "markdown",
   "id": "db0ba70b",
   "metadata": {},
   "source": [
    "cresting array from list"
   ]
  },
  {
   "cell_type": "code",
   "execution_count": 15,
   "id": "c1438f5c",
   "metadata": {},
   "outputs": [
    {
     "name": "stdout",
     "output_type": "stream",
     "text": [
      "1D Array: [1 2 3 4 5]\n",
      "2D Array: [[1 2 3]\n",
      " [4 5 6]]\n"
     ]
    }
   ],
   "source": [
    "arr_1d = np.array([1, 2, 3, 4,5 ])\n",
    "print(\"1D Array:\",arr_1d)\n",
    "\n",
    "arr_2d = np.array([[1, 2, 3], [4, 5, 6]])\n",
    "print(\"2D Array:\", arr_2d)"
   ]
  },
  {
   "cell_type": "markdown",
   "id": "3ef500bf",
   "metadata": {},
   "source": [
    "### list vs numpy array \n"
   ]
  },
  {
   "cell_type": "code",
   "execution_count": 20,
   "id": "6831ae4c",
   "metadata": {},
   "outputs": [
    {
     "name": "stdout",
     "output_type": "stream",
     "text": [
      "python list mulitiplication: [1, 2, 3, 4, 5, 1, 2, 3, 4, 5]\n",
      "numpy array multiplication: [2 4 6]\n",
      "\n",
      " list opration time 0.05753660202026367\n",
      "\n",
      " numpy opration time 0.0038187503814697266\n"
     ]
    }
   ],
   "source": [
    "py_list = [1, 2, 3, 4, 5]\n",
    "print(\"python list mulitiplication:\", py_list * 2)\n",
    "\n",
    "np_array = np.array([1, 2, 3]) # element wise multiplication\n",
    "print(\"numpy array multiplication:\", np_array * 2)\n",
    "\n",
    "import time \n",
    "start  = time.time()\n",
    "py_list =[i*2 for i in range(1000000)]\n",
    "print(\"\\n list opration time\",time.time() - start)\n",
    "\n",
    "\n",
    "start = time.time()\n",
    "np_array = np.arange(1000000) * 2\n",
    "print(\"\\n numpy opration time\",time.time() - start)\n"
   ]
  },
  {
   "cell_type": "markdown",
   "id": "0603beb1",
   "metadata": {},
   "source": [
    "creating array from scratch\n"
   ]
  },
  {
   "cell_type": "code",
   "execution_count": 28,
   "id": "d58b7088",
   "metadata": {},
   "outputs": [
    {
     "name": "stdout",
     "output_type": "stream",
     "text": [
      "Zeros Array:\n",
      " [[0. 0. 0. 0.]\n",
      " [0. 0. 0. 0.]\n",
      " [0. 0. 0. 0.]]\n",
      "Ones Array:\n",
      " [[1. 1. 1.]\n",
      " [1. 1. 1.]]\n",
      "Full Array:\n",
      " [[7 7]\n",
      " [7 7]]\n",
      "Random Array:\n",
      " [[0.56957544 0.62566588]\n",
      " [0.58536121 0.25690152]]\n",
      "Sequence Array:\n",
      " [0 2 4 6 8]\n"
     ]
    }
   ],
   "source": [
    "zeros = np.zeros((3, 4))\n",
    "print(\"Zeros Array:\\n\", zeros)\n",
    "\n",
    "ones = np.ones((2, 3)) # this is not a constant value\n",
    "print(\"Ones Array:\\n\", ones)\n",
    "\n",
    "\n",
    "full = np.full((2, 2), 7) # special constant value in full\n",
    "print(\"Full Array:\\n\", full)\n",
    "\n",
    "\n",
    "random = np.random.random((2, 2)) # random values\n",
    "print(\"Random Array:\\n\", random)\n",
    "\n",
    "sequence = np.arange(0, 10, 2) # this value state the start, stop and step\n",
    "print(\"Sequence Array:\\n\", sequence)"
   ]
  },
  {
   "cell_type": "markdown",
   "id": "17f94139",
   "metadata": {},
   "source": [
    "##vector\n",
    "#vectio,Matrrix and tensor\n"
   ]
  },
  {
   "cell_type": "code",
   "execution_count": 30,
   "id": "8f852632",
   "metadata": {},
   "outputs": [
    {
     "name": "stdout",
     "output_type": "stream",
     "text": [
      "Vector: [1 2 3 4 5]\n",
      "Matrix:\n",
      " [[1 2]\n",
      " [3 4]]\n",
      "Tensor:\n",
      " [[[1 2]\n",
      "  [3 4]]\n",
      "\n",
      " [[5 6]\n",
      "  [7 8]]]\n"
     ]
    }
   ],
   "source": [
    "vector = np.array([1,2,3,4,5])\n",
    "print(\"Vector:\", vector) \n",
    "\n",
    "matrix = np.array([[1, 2], [3, 4]])\n",
    "print(\"Matrix:\\n\", matrix)\n",
    "\n",
    "tensor = np.array([[[1, 2], [3, 4]],\n",
    "                  [[5, 6], [7, 8]]])\n",
    "print(\"Tensor:\\n\", tensor)  # the add both are 2D matrix\n"
   ]
  },
  {
   "cell_type": "markdown",
   "id": "f7665580",
   "metadata": {},
   "source": [
    "Array properties"
   ]
  },
  {
   "cell_type": "code",
   "execution_count": 32,
   "id": "dafccf82",
   "metadata": {},
   "outputs": [
    {
     "name": "stdout",
     "output_type": "stream",
     "text": [
      "shape of array:\n",
      " (2, 3)\n",
      "dimension of array:\n",
      " 2\n",
      "size of array:\n",
      " 6\n",
      "data type of array:\n",
      " int64\n"
     ]
    }
   ],
   "source": [
    "arr = np.array([[1,2,3],[4,5,6]])\n",
    "print(\"shape of array:\\n\", arr.shape)# this are shape are display in row and colome\n",
    "print(\"dimension of array:\\n\", arr.ndim) # this is the dimension of the array\n",
    "print(\"size of array:\\n\", arr.size) # this is the total number of element in the array\n",
    "print(\"data type of array:\\n\", arr.dtype) # this is the data type of the array"
   ]
  },
  {
   "cell_type": "markdown",
   "id": "376c74e7",
   "metadata": {},
   "source": [
    "Array Reshaping"
   ]
  },
  {
   "cell_type": "code",
   "execution_count": 6,
   "id": "59b50c1a",
   "metadata": {},
   "outputs": [
    {
     "name": "stdout",
     "output_type": "stream",
     "text": [
      "Original array:\n",
      " [ 0  1  2  3  4  5  6  7  8  9 10 11]\n",
      "Reshaped array:\n",
      " [[ 0  1  2  3]\n",
      " [ 4  5  6  7]\n",
      " [ 8  9 10 11]]\n",
      "Flattened array:\n",
      " [ 0  1  2  3  4  5  6  7  8  9 10 11]\n",
      "Reveled array:\n",
      " [ 0  1  2  3  4  5  6  7  8  9 10 11]\n",
      "Transposed array:\n",
      " [[ 0  4  8]\n",
      " [ 1  5  9]\n",
      " [ 2  6 10]\n",
      " [ 3  7 11]]\n"
     ]
    }
   ],
   "source": [
    "import numpy as np\n",
    "arr = np.arange(12) # changing the data type\n",
    "print(\"Original array:\\n\", arr)\n",
    "\n",
    "reshaped =arr.reshape(3, 4) # reshaping the array\n",
    "print(\"Reshaped array:\\n\", reshaped)\n",
    "\n",
    "\n",
    "# this is the flattened is copy the replaced value o\n",
    "flattened = reshaped.flatten()  # flattening the array is mimum one row \n",
    "print(\"Flattened array:\\n\", flattened)\n",
    "\n",
    "\n",
    "#revel ( return view , instand of the copy) this is orignal array  \n",
    "reveled = reshaped.ravel()  \n",
    "print(\"Reveled array:\\n\", reveled)\n",
    "\n",
    "#transpose (this is the change the row and colome)\n",
    "\n",
    "transpose = reshaped.T\n",
    "print(\"Transposed array:\\n\", transpose)"
   ]
  }
 ],
 "metadata": {
  "kernelspec": {
   "display_name": "venv",
   "language": "python",
   "name": "python3"
  },
  "language_info": {
   "codemirror_mode": {
    "name": "ipython",
    "version": 3
   },
   "file_extension": ".py",
   "mimetype": "text/x-python",
   "name": "python",
   "nbconvert_exporter": "python",
   "pygments_lexer": "ipython3",
   "version": "3.13.7"
  }
 },
 "nbformat": 4,
 "nbformat_minor": 5
}
